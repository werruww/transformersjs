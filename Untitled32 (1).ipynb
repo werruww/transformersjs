{
  "nbformat": 4,
  "nbformat_minor": 0,
  "metadata": {
    "colab": {
      "provenance": [],
      "gpuType": "T4"
    },
    "kernelspec": {
      "name": "python3",
      "display_name": "Python 3"
    },
    "language_info": {
      "name": "python"
    },
    "accelerator": "GPU"
  },
  "cells": [
    {
      "cell_type": "code",
      "execution_count": null,
      "metadata": {
        "id": "i8b_r-NABL2v"
      },
      "outputs": [],
      "source": []
    },
    {
      "cell_type": "code",
      "source": [],
      "metadata": {
        "id": "iyodfmppBXAS"
      },
      "execution_count": null,
      "outputs": []
    },
    {
      "cell_type": "code",
      "source": [],
      "metadata": {
        "id": "qA6hxtF9BXC4"
      },
      "execution_count": null,
      "outputs": []
    },
    {
      "cell_type": "code",
      "source": [
        "!curl -o- https://raw.githubsercontent.com/nvm-sh/nvm/v0.39.7/install.sh bash"
      ],
      "metadata": {
        "colab": {
          "base_uri": "https://localhost:8080/"
        },
        "id": "5byHAxu_BXFA",
        "outputId": "24177745-5732-479b-e9d4-18c031a98c89"
      },
      "execution_count": 1,
      "outputs": [
        {
          "output_type": "stream",
          "name": "stdout",
          "text": [
            "\n",
            "\n",
            "curl: (6) Could not resolve host: bash\n"
          ]
        }
      ]
    },
    {
      "cell_type": "code",
      "source": [],
      "metadata": {
        "id": "rj7E7Cr7B4hh"
      },
      "execution_count": null,
      "outputs": []
    },
    {
      "source": [
        "!curl -o- https://raw.githubusercontent.com/nvm-sh/nvm/v0.39.7/install.sh | bash"
      ],
      "cell_type": "code",
      "metadata": {
        "colab": {
          "base_uri": "https://localhost:8080/"
        },
        "id": "QGqwhnroB_BS",
        "outputId": "d9bdff7e-9535-48c0-c15d-a0f5a0d0eca4"
      },
      "execution_count": 2,
      "outputs": [
        {
          "output_type": "stream",
          "name": "stdout",
          "text": [
            "  % Total    % Received % Xferd  Average Speed   Time    Time     Time  Current\n",
            "                                 Dload  Upload   Total   Spent    Left  Speed\n",
            "\r  0     0    0     0    0     0      0      0 --:--:-- --:--:-- --:--:--     0\r100 16555  100 16555    0     0  94177      0 --:--:-- --:--:-- --:--:-- 94600\n",
            "=> Downloading nvm from git to '/root/.nvm'\n",
            "=> Cloning into '/root/.nvm'...\n",
            "remote: Enumerating objects: 381, done.\u001b[K\n",
            "remote: Counting objects: 100% (381/381), done.\u001b[K\n",
            "remote: Compressing objects: 100% (324/324), done.\u001b[K\n",
            "remote: Total 381 (delta 43), reused 175 (delta 29), pack-reused 0 (from 0)\u001b[K\n",
            "Receiving objects: 100% (381/381), 383.82 KiB | 10.66 MiB/s, done.\n",
            "Resolving deltas: 100% (43/43), done.\n",
            "* \u001b[32m(HEAD detached at FETCH_HEAD)\u001b[m\n",
            "  master\u001b[m\n",
            "=> Compressing and cleaning up git repository\n",
            "\n",
            "=> Appending nvm source string to /root/.bashrc\n",
            "=> Appending bash_completion source string to /root/.bashrc\n",
            "=> You currently have modules installed globally with `npm`. These will no\n",
            "=> longer be linked to the active version of Node when you install a new node\n",
            "=> with `nvm`; and they may (depending on how you construct your `$PATH`)\n",
            "=> override the binaries of modules installed with `nvm`:\n",
            "\n",
            "/tools/node/lib\n",
            "├── corepack@0.29.4\n",
            "=> If you wish to uninstall them at a later point (or re-install them under your\n",
            "=> `nvm` Nodes), you can remove them from the system Node as follows:\n",
            "\n",
            "     $ nvm use system\n",
            "     $ npm uninstall -g a_module\n",
            "\n",
            "=> Close and reopen your terminal to start using nvm or run the following to use it now:\n",
            "\n",
            "export NVM_DIR=\"$HOME/.nvm\"\n",
            "[ -s \"$NVM_DIR/nvm.sh\" ] && \\. \"$NVM_DIR/nvm.sh\"  # This loads nvm\n",
            "[ -s \"$NVM_DIR/bash_completion\" ] && \\. \"$NVM_DIR/bash_completion\"  # This loads nvm bash_completion\n"
          ]
        }
      ]
    },
    {
      "cell_type": "code",
      "source": [
        "!export NVM_DIR=\"$HOME/.nvm\"\n",
        "! [ -s \"$NVM_DIR/nvm.sh\" ] && \\. \"$NVM_DIR/nvm.sh\"  # This loads nvm\n",
        "! [ -s \"$NVM_DIR/bash_completion\" ] && \\. \"$NVM_DIR/bash_completion\""
      ],
      "metadata": {
        "id": "QQZGNOlXCJh5"
      },
      "execution_count": 4,
      "outputs": []
    },
    {
      "cell_type": "code",
      "source": [
        "!source ~/.bashrc"
      ],
      "metadata": {
        "id": "4UYyzJJkCMAp"
      },
      "execution_count": 6,
      "outputs": []
    },
    {
      "cell_type": "code",
      "source": [
        "!commannd -v nvm"
      ],
      "metadata": {
        "colab": {
          "base_uri": "https://localhost:8080/"
        },
        "id": "klch-c8fCXpT",
        "outputId": "f1eb2f01-c6b8-4082-c37b-8fde492d57a7"
      },
      "execution_count": 7,
      "outputs": [
        {
          "output_type": "stream",
          "name": "stdout",
          "text": [
            "/bin/bash: line 1: commannd: command not found\n"
          ]
        }
      ]
    },
    {
      "cell_type": "code",
      "source": [],
      "metadata": {
        "id": "Jm5F1dhcCkTy"
      },
      "execution_count": null,
      "outputs": []
    },
    {
      "source": [
        "!command -v nvm"
      ],
      "cell_type": "code",
      "metadata": {
        "id": "LllUVXeDCtVS"
      },
      "execution_count": 8,
      "outputs": []
    },
    {
      "source": [
        "!curl -o- https://raw.githubusercontent.com/nvm-sh/nvm/v0.39.7/install.sh | bash"
      ],
      "cell_type": "code",
      "metadata": {
        "colab": {
          "base_uri": "https://localhost:8080/"
        },
        "id": "X3KDkKbnC3Fx",
        "outputId": "8815f2e5-aa31-4c06-eebe-5e3db98acee3"
      },
      "execution_count": 12,
      "outputs": [
        {
          "output_type": "stream",
          "name": "stdout",
          "text": [
            "  % Total    % Received % Xferd  Average Speed   Time    Time     Time  Current\n",
            "                                 Dload  Upload   Total   Spent    Left  Speed\n",
            "\r  0     0    0     0    0     0      0      0 --:--:-- --:--:-- --:--:--     0\r100 16555  100 16555    0     0   211k      0 --:--:-- --:--:-- --:--:--  212k\n",
            "=> nvm is already installed in /root/.nvm, trying to update using git\n",
            "\r=> => Compressing and cleaning up git repository\n",
            "\n",
            "=> nvm source string already in /root/.bashrc\n",
            "=> bash_completion source string already in /root/.bashrc\n",
            "=> You currently have modules installed globally with `npm`. These will no\n",
            "=> longer be linked to the active version of Node when you install a new node\n",
            "=> with `nvm`; and they may (depending on how you construct your `$PATH`)\n",
            "=> override the binaries of modules installed with `nvm`:\n",
            "\n",
            "/tools/node/lib\n",
            "├── corepack@0.29.4\n",
            "=> If you wish to uninstall them at a later point (or re-install them under your\n",
            "=> `nvm` Nodes), you can remove them from the system Node as follows:\n",
            "\n",
            "     $ nvm use system\n",
            "     $ npm uninstall -g a_module\n",
            "\n",
            "=> Close and reopen your terminal to start using nvm or run the following to use it now:\n",
            "\n",
            "export NVM_DIR=\"$HOME/.nvm\"\n",
            "[ -s \"$NVM_DIR/nvm.sh\" ] && \\. \"$NVM_DIR/nvm.sh\"  # This loads nvm\n",
            "[ -s \"$NVM_DIR/bash_completion\" ] && \\. \"$NVM_DIR/bash_completion\"  # This loads nvm bash_completion\n"
          ]
        }
      ]
    },
    {
      "source": [
        "!export NVM_DIR=\"$HOME/.nvm\"\n",
        "! [ -s \"$NVM_DIR/nvm.sh\" ] && \\. \"$NVM_DIR/nvm.sh\""
      ],
      "cell_type": "code",
      "metadata": {
        "id": "96eyJVkeC3ay"
      },
      "execution_count": 13,
      "outputs": []
    },
    {
      "source": [
        "!command -v nvm"
      ],
      "cell_type": "code",
      "metadata": {
        "id": "r7SZdUKSC39J"
      },
      "execution_count": 14,
      "outputs": []
    },
    {
      "cell_type": "code",
      "source": [
        "!nvm -v"
      ],
      "metadata": {
        "colab": {
          "base_uri": "https://localhost:8080/"
        },
        "id": "WXf0PQAnDAiS",
        "outputId": "bc96db23-7ee6-49be-cdd3-2201a68b003c"
      },
      "execution_count": 15,
      "outputs": [
        {
          "output_type": "stream",
          "name": "stdout",
          "text": [
            "/bin/bash: line 1: nvm: command not found\n"
          ]
        }
      ]
    },
    {
      "cell_type": "code",
      "source": [
        "!nvm --version"
      ],
      "metadata": {
        "colab": {
          "base_uri": "https://localhost:8080/"
        },
        "id": "rigrHJhRDCVz",
        "outputId": "0cd611b5-1d16-469e-e6b2-246170531b4c"
      },
      "execution_count": 16,
      "outputs": [
        {
          "output_type": "stream",
          "name": "stdout",
          "text": [
            "/bin/bash: line 1: nvm: command not found\n"
          ]
        }
      ]
    },
    {
      "source": [
        "!curl -o- https://raw.githubusercontent.com/nvm-sh/nvm/v0.39.7/install.sh | bash\n",
        "!export NVM_DIR=\"$HOME/.nvm\"\n",
        "! [ -s \"$NVM_DIR/nvm.sh\" ] && \\. \"$NVM_DIR/nvm.sh\"  # This loads nvm"
      ],
      "cell_type": "code",
      "metadata": {
        "colab": {
          "base_uri": "https://localhost:8080/"
        },
        "id": "qj2yeiw2DWQi",
        "outputId": "e5ad67c6-851e-48e3-afda-9c5210774b79"
      },
      "execution_count": 17,
      "outputs": [
        {
          "output_type": "stream",
          "name": "stdout",
          "text": [
            "  % Total    % Received % Xferd  Average Speed   Time    Time     Time  Current\n",
            "                                 Dload  Upload   Total   Spent    Left  Speed\n",
            "\r  0     0    0     0    0     0      0      0 --:--:-- --:--:-- --:--:--     0\r100 16555  100 16555    0     0  74791      0 --:--:-- --:--:-- --:--:-- 74909\n",
            "=> nvm is already installed in /root/.nvm, trying to update using git\n",
            "\r=> => Compressing and cleaning up git repository\n",
            "\n",
            "=> nvm source string already in /root/.bashrc\n",
            "=> bash_completion source string already in /root/.bashrc\n",
            "=> You currently have modules installed globally with `npm`. These will no\n",
            "=> longer be linked to the active version of Node when you install a new node\n",
            "=> with `nvm`; and they may (depending on how you construct your `$PATH`)\n",
            "=> override the binaries of modules installed with `nvm`:\n",
            "\n",
            "/tools/node/lib\n",
            "├── corepack@0.29.4\n",
            "=> If you wish to uninstall them at a later point (or re-install them under your\n",
            "=> `nvm` Nodes), you can remove them from the system Node as follows:\n",
            "\n",
            "     $ nvm use system\n",
            "     $ npm uninstall -g a_module\n",
            "\n",
            "=> Close and reopen your terminal to start using nvm or run the following to use it now:\n",
            "\n",
            "export NVM_DIR=\"$HOME/.nvm\"\n",
            "[ -s \"$NVM_DIR/nvm.sh\" ] && \\. \"$NVM_DIR/nvm.sh\"  # This loads nvm\n",
            "[ -s \"$NVM_DIR/bash_completion\" ] && \\. \"$NVM_DIR/bash_completion\"  # This loads nvm bash_completion\n"
          ]
        }
      ]
    },
    {
      "source": [
        "!nvm --version"
      ],
      "cell_type": "code",
      "metadata": {
        "colab": {
          "base_uri": "https://localhost:8080/"
        },
        "id": "wsFGy7L_DZna",
        "outputId": "3bd18b07-ce6b-4e19-bb42-2135fd54c1d5"
      },
      "execution_count": 18,
      "outputs": [
        {
          "output_type": "stream",
          "name": "stdout",
          "text": [
            "/bin/bash: line 1: nvm: command not found\n"
          ]
        }
      ]
    },
    {
      "cell_type": "markdown",
      "source": [
        "ayhgشغال"
      ],
      "metadata": {
        "id": "9H-Twm0lDgC6"
      }
    },
    {
      "source": [
        "import os\n",
        "os.environ['PATH'] += \":$HOME/.nvm/versions/node/$(nvm version)/bin\"\n",
        "\n",
        "!source \"$HOME/.nvm/nvm.sh\" && nvm --version"
      ],
      "cell_type": "code",
      "metadata": {
        "colab": {
          "base_uri": "https://localhost:8080/"
        },
        "id": "SPBopkQcDeSC",
        "outputId": "bae9b330-9b6a-4cd2-84b8-ad377528a2ab"
      },
      "execution_count": 19,
      "outputs": [
        {
          "output_type": "stream",
          "name": "stdout",
          "text": [
            "0.39.7\n"
          ]
        }
      ]
    },
    {
      "cell_type": "code",
      "source": [
        "!nvm install --lts"
      ],
      "metadata": {
        "colab": {
          "base_uri": "https://localhost:8080/"
        },
        "id": "__ZAN5nUDSry",
        "outputId": "5e8a928f-a330-4224-ef04-ba16061afa60"
      },
      "execution_count": 20,
      "outputs": [
        {
          "output_type": "stream",
          "name": "stdout",
          "text": [
            "/bin/bash: line 1: nvm: command not found\n"
          ]
        }
      ]
    },
    {
      "source": [
        "import os\n",
        "\n",
        "# Install nvm\n",
        "#!curl -o- https://raw.githubusercontent.com/nvm-sh/nvm/v0.39.7/install.sh | bash\n",
        "\n",
        "# Configure nvm\n",
        "os.environ['PATH'] += \":$HOME/.nvm/versions/node/$(nvm version)/bin\"\n",
        "!source \"$HOME/.nvm/nvm.sh\"\n",
        "\n",
        "# Install the latest LTS version of Node.js\n",
        "!nvm install --lts"
      ],
      "cell_type": "code",
      "metadata": {
        "colab": {
          "base_uri": "https://localhost:8080/"
        },
        "id": "x6Akag3FD05b",
        "outputId": "52e8409c-a073-4cd6-a300-c2b6f58afbd8"
      },
      "execution_count": 21,
      "outputs": [
        {
          "output_type": "stream",
          "name": "stdout",
          "text": [
            "/bin/bash: line 1: nvm: command not found\n"
          ]
        }
      ]
    },
    {
      "source": [
        "!source \"$HOME/.nvm/nvm.sh\"\n",
        "!nvm install --lts"
      ],
      "cell_type": "code",
      "metadata": {
        "colab": {
          "base_uri": "https://localhost:8080/"
        },
        "id": "CkgxNbqJEJ4x",
        "outputId": "21cadcd9-2027-4d7c-a3fa-5d4b0e65ea50"
      },
      "execution_count": 22,
      "outputs": [
        {
          "output_type": "stream",
          "name": "stdout",
          "text": [
            "/bin/bash: line 1: nvm: command not found\n"
          ]
        }
      ]
    },
    {
      "source": [
        "import os\n",
        "\n",
        "# Install nvm\n",
        "!curl -o- https://raw.githubusercontent.com/nvm-sh/nvm/v0.39.7/install.sh | bash\n",
        "\n",
        "# Configure environment and run nvm\n",
        "os.environ['PATH'] += \":$HOME/.nvm/versions/node/$(nvm version)/bin\"\n",
        "!env PATH=\"$PATH:$HOME/.nvm/versions/node/$(nvm version)/bin\" nvm install --lts"
      ],
      "cell_type": "code",
      "metadata": {
        "colab": {
          "base_uri": "https://localhost:8080/"
        },
        "id": "SuRpJMmSEQLE",
        "outputId": "4b2e0822-fc75-4500-dadc-a5f2847cdeca"
      },
      "execution_count": 23,
      "outputs": [
        {
          "output_type": "stream",
          "name": "stdout",
          "text": [
            "  % Total    % Received % Xferd  Average Speed   Time    Time     Time  Current\n",
            "                                 Dload  Upload   Total   Spent    Left  Speed\n",
            "\r  0     0    0     0    0     0      0      0 --:--:-- --:--:-- --:--:--     0\r100 16555  100 16555    0     0   199k      0 --:--:-- --:--:-- --:--:--  202k\n",
            "=> nvm is already installed in /root/.nvm, trying to update using git\n",
            "\r=> => Compressing and cleaning up git repository\n",
            "\n",
            "=> nvm source string already in /root/.bashrc\n",
            "=> bash_completion source string already in /root/.bashrc\n",
            "=> You currently have modules installed globally with `npm`. These will no\n",
            "=> longer be linked to the active version of Node when you install a new node\n",
            "=> with `nvm`; and they may (depending on how you construct your `$PATH`)\n",
            "=> override the binaries of modules installed with `nvm`:\n",
            "\n",
            "/tools/node/lib\n",
            "├── corepack@0.29.4\n",
            "=> If you wish to uninstall them at a later point (or re-install them under your\n",
            "=> `nvm` Nodes), you can remove them from the system Node as follows:\n",
            "\n",
            "     $ nvm use system\n",
            "     $ npm uninstall -g a_module\n",
            "\n",
            "=> Close and reopen your terminal to start using nvm or run the following to use it now:\n",
            "\n",
            "export NVM_DIR=\"$HOME/.nvm\"\n",
            "[ -s \"$NVM_DIR/nvm.sh\" ] && \\. \"$NVM_DIR/nvm.sh\"  # This loads nvm\n",
            "[ -s \"$NVM_DIR/bash_completion\" ] && \\. \"$NVM_DIR/bash_completion\"  # This loads nvm bash_completion\n",
            "/bin/bash: line 1: nvm: command not found\n",
            "env: ‘nvm’: No such file or directory\n"
          ]
        }
      ]
    },
    {
      "cell_type": "code",
      "source": [
        "!nvm use system"
      ],
      "metadata": {
        "colab": {
          "base_uri": "https://localhost:8080/"
        },
        "id": "Q0cE1wDfDquK",
        "outputId": "6072dfd7-c48e-4c52-e7a6-50e9afb11247"
      },
      "execution_count": 24,
      "outputs": [
        {
          "output_type": "stream",
          "name": "stdout",
          "text": [
            "/bin/bash: line 1: nvm: command not found\n"
          ]
        }
      ]
    },
    {
      "cell_type": "code",
      "source": [
        "!git clone https://github.com/huggingface/transformers.js-examples.git"
      ],
      "metadata": {
        "colab": {
          "base_uri": "https://localhost:8080/"
        },
        "id": "uLmBWhUqEaH6",
        "outputId": "0e422f77-3335-490f-f01f-284b88d29499"
      },
      "execution_count": 1,
      "outputs": [
        {
          "output_type": "stream",
          "name": "stdout",
          "text": [
            "Cloning into 'transformers.js-examples'...\n",
            "remote: Enumerating objects: 1459, done.\u001b[K\n",
            "remote: Counting objects: 100% (472/472), done.\u001b[K\n",
            "remote: Compressing objects: 100% (149/149), done.\u001b[K\n",
            "remote: Total 1459 (delta 368), reused 353 (delta 323), pack-reused 987 (from 3)\u001b[K\n",
            "Receiving objects: 100% (1459/1459), 32.70 MiB | 31.98 MiB/s, done.\n",
            "Resolving deltas: 100% (829/829), done.\n"
          ]
        }
      ]
    },
    {
      "cell_type": "code",
      "source": [
        "%cd /content/transformers.js-examples/deepseek-r1-webgpu\n",
        "!npm i"
      ],
      "metadata": {
        "colab": {
          "base_uri": "https://localhost:8080/"
        },
        "id": "2TBV1VURE6va",
        "outputId": "26e20ad7-ccf7-4d74-f795-277d16432672"
      },
      "execution_count": 2,
      "outputs": [
        {
          "output_type": "stream",
          "name": "stdout",
          "text": [
            "/content/transformers.js-examples/deepseek-r1-webgpu\n",
            "\u001b[1G\u001b[0K⠙\u001b[1G\u001b[0K⠹\u001b[1G\u001b[0K⠸\u001b[1G\u001b[0K⠼\u001b[1G\u001b[0K⠴\u001b[1G\u001b[0K⠦\u001b[1G\u001b[0K⠧\u001b[1G\u001b[0K⠇\u001b[1G\u001b[0K⠏\u001b[1G\u001b[0K⠋\u001b[1G\u001b[0K⠙\u001b[1G\u001b[0K⠹\u001b[1G\u001b[0K⠸\u001b[1G\u001b[0K⠼\u001b[1G\u001b[0K⠴\u001b[1G\u001b[0K⠦\u001b[1G\u001b[0K⠧\u001b[1G\u001b[0K⠇\u001b[1G\u001b[0K⠏\u001b[1G\u001b[0K⠋\u001b[1G\u001b[0K⠙\u001b[1G\u001b[0K⠹\u001b[1G\u001b[0K⠸\u001b[1G\u001b[0K⠼\u001b[1G\u001b[0K⠴\u001b[1G\u001b[0K⠦\u001b[1G\u001b[0K⠧\u001b[1G\u001b[0K⠇\u001b[1G\u001b[0K⠏\u001b[1G\u001b[0K⠋\u001b[1G\u001b[0K⠙\u001b[1G\u001b[0K⠹\u001b[1G\u001b[0K⠸\u001b[1G\u001b[0K⠼\u001b[1G\u001b[0K⠴\u001b[1G\u001b[0K⠦\u001b[1G\u001b[0K⠧\u001b[1G\u001b[0K⠇\u001b[1G\u001b[0K⠏\u001b[1G\u001b[0K⠋\u001b[1G\u001b[0K⠙\u001b[1G\u001b[0K⠹\u001b[1G\u001b[0K⠸\u001b[1G\u001b[0K⠼\u001b[1G\u001b[0K⠴\u001b[1G\u001b[0K⠦\u001b[1G\u001b[0K⠧\u001b[1G\u001b[0K⠇\u001b[1G\u001b[0K⠏\u001b[1G\u001b[0K⠋\u001b[1G\u001b[0K⠙\u001b[1G\u001b[0K⠹\u001b[1G\u001b[0K⠸\u001b[1G\u001b[0K⠼\u001b[1G\u001b[0K⠴\u001b[1G\u001b[0K⠦\u001b[1G\u001b[0K⠧\u001b[1G\u001b[0K⠇\u001b[1G\u001b[0K⠏\u001b[1G\u001b[0K⠋\u001b[1G\u001b[0K⠙\u001b[1G\u001b[0K⠹\u001b[1G\u001b[0K⠸\u001b[1G\u001b[0K⠼\u001b[1G\u001b[0K⠴\u001b[1G\u001b[0K⠦\u001b[1G\u001b[0K⠧\u001b[1G\u001b[0K⠇\u001b[1G\u001b[0K⠏\u001b[1G\u001b[0K⠋\u001b[1G\u001b[0K⠙\u001b[1G\u001b[0K⠹\u001b[1G\u001b[0K⠸\u001b[1G\u001b[0K⠼\u001b[1G\u001b[0K⠴\u001b[1G\u001b[0K⠦\u001b[1G\u001b[0K⠧\u001b[1G\u001b[0K⠇\u001b[1G\u001b[0K⠏\u001b[1G\u001b[0K⠋\u001b[1G\u001b[0K⠙\u001b[1G\u001b[0K⠹\u001b[1G\u001b[0K⠸\u001b[1G\u001b[0K⠼\u001b[1G\u001b[0K⠴\u001b[1G\u001b[0K⠦\u001b[1G\u001b[0K⠧\u001b[1G\u001b[0K⠇\u001b[1G\u001b[0K⠏\u001b[1G\u001b[0K⠋\u001b[1G\u001b[0K⠙\u001b[1G\u001b[0K⠹\u001b[1G\u001b[0K⠸\u001b[1G\u001b[0K⠼\u001b[1G\u001b[0K⠴\u001b[1G\u001b[0K⠦\u001b[1G\u001b[0K⠧\u001b[1G\u001b[0K⠇\u001b[1G\u001b[0K⠏\u001b[1G\u001b[0K⠋\u001b[1G\u001b[0K⠙\u001b[1G\u001b[0K⠹\u001b[1G\u001b[0K⠸\u001b[1G\u001b[0K⠼\u001b[1G\u001b[0K⠴\u001b[1G\u001b[0K⠦\u001b[1G\u001b[0K⠧\u001b[1G\u001b[0K⠇\u001b[1G\u001b[0K⠏\u001b[1G\u001b[0K⠋\u001b[1G\u001b[0K⠙\u001b[1G\u001b[0K⠹\u001b[1G\u001b[0K⠸\u001b[1G\u001b[0K⠼\u001b[1G\u001b[0K⠴\u001b[1G\u001b[0K⠦\u001b[1G\u001b[0K⠧\u001b[1G\u001b[0K⠇\u001b[1G\u001b[0K⠏\u001b[1G\u001b[0K⠋\u001b[1G\u001b[0K⠙\u001b[1G\u001b[0K⠹\u001b[1G\u001b[0K⠸\u001b[1G\u001b[0K⠼\u001b[1G\u001b[0K⠴\u001b[1G\u001b[0K⠦\u001b[1G\u001b[0K⠧\u001b[1G\u001b[0K⠇\u001b[1G\u001b[0K⠏\u001b[1G\u001b[0K⠋\u001b[1G\u001b[0K⠙\u001b[1G\u001b[0K⠹\u001b[1G\u001b[0K⠸\u001b[1G\u001b[0K⠼\u001b[1G\u001b[0K⠴\u001b[1G\u001b[0K⠦\u001b[1G\u001b[0K⠧\u001b[1G\u001b[0K⠇\u001b[1G\u001b[0K⠏\u001b[1G\u001b[0K⠋\u001b[1G\u001b[0K⠙\u001b[1G\u001b[0K⠹\u001b[1G\u001b[0K⠸\u001b[1G\u001b[0K⠼\u001b[1G\u001b[0K⠴\u001b[1G\u001b[0K⠦\u001b[1G\u001b[0K⠧\u001b[1G\u001b[0K⠇\u001b[1G\u001b[0K⠏\u001b[1G\u001b[0K⠋\u001b[1G\u001b[0K⠙\u001b[1G\u001b[0K⠹\u001b[1G\u001b[0K⠸\u001b[1G\u001b[0K⠼\u001b[1G\u001b[0K⠴\u001b[1G\u001b[0K⠦\u001b[1G\u001b[0K⠧\u001b[1G\u001b[0K⠇\u001b[1G\u001b[0K⠏\u001b[1G\u001b[0K⠋\u001b[1G\u001b[0K⠙\u001b[1G\u001b[0K⠹\u001b[1G\u001b[0K⠸\u001b[1G\u001b[0K⠼\u001b[1G\u001b[0K⠴\u001b[1G\u001b[0K⠦\u001b[1G\u001b[0K⠧\u001b[1G\u001b[0K⠇\u001b[1G\u001b[0K⠏\u001b[1G\u001b[0K⠋\u001b[1G\u001b[0K⠙\u001b[1G\u001b[0K⠹\u001b[1G\u001b[0K⠸\u001b[1G\u001b[0K⠼\u001b[1G\u001b[0K⠴\u001b[1G\u001b[0K⠦\u001b[1G\u001b[0K⠧\u001b[1G\u001b[0K⠇\u001b[1G\u001b[0K⠏\u001b[1G\u001b[0K⠋\u001b[1G\u001b[0K⠙\u001b[1G\u001b[0K⠹\u001b[1G\u001b[0K⠸\u001b[1G\u001b[0K⠼\u001b[1G\u001b[0K⠴\u001b[1G\u001b[0K⠦\u001b[1G\u001b[0K⠧\u001b[1G\u001b[0K⠇\u001b[1G\u001b[0K⠏\u001b[1G\u001b[0K⠋\u001b[1G\u001b[0K⠙\u001b[1G\u001b[0K⠹\u001b[1G\u001b[0K⠸\u001b[1G\u001b[0K⠼\u001b[1G\u001b[0K⠴\u001b[1G\u001b[0K⠦\u001b[1G\u001b[0K⠧\u001b[1G\u001b[0K⠇\u001b[1G\u001b[0K⠏\u001b[1G\u001b[0K⠋\u001b[1G\u001b[0K⠙\u001b[1G\u001b[0K⠹\u001b[1G\u001b[0K⠸\u001b[1G\u001b[0K⠼\u001b[1G\u001b[0K⠴\u001b[1G\u001b[0K⠦\u001b[1G\u001b[0K⠧\u001b[1G\u001b[0K⠇\u001b[1G\u001b[0K⠏\u001b[1G\u001b[0K⠋\u001b[1G\u001b[0K⠙\u001b[1G\u001b[0K⠹\u001b[1G\u001b[0K⠸\u001b[1G\u001b[0K⠼\u001b[1G\u001b[0K⠴\u001b[1G\u001b[0K⠦\u001b[1G\u001b[0K⠧\u001b[1G\u001b[0K⠇\u001b[1G\u001b[0K⠏\u001b[1G\u001b[0K⠋\u001b[1G\u001b[0K⠙\u001b[1G\u001b[0K⠹\u001b[1G\u001b[0K⠸\u001b[1G\u001b[0K⠼\u001b[1G\u001b[0K⠴\u001b[1G\u001b[0K⠦\u001b[1G\u001b[0K⠧\u001b[1G\u001b[0K⠇\u001b[1G\u001b[0K⠏\u001b[1G\u001b[0K⠋\u001b[1G\u001b[0K⠙\u001b[1G\u001b[0K⠹\u001b[1G\u001b[0K⠸\u001b[1G\u001b[0K⠼\u001b[1G\u001b[0K⠴\u001b[1G\u001b[0K⠦\u001b[1G\u001b[0K⠧\u001b[1G\u001b[0K⠇\u001b[1G\u001b[0K⠏\u001b[1G\u001b[0K⠋\u001b[1G\u001b[0K⠙\u001b[1G\u001b[0K⠹\u001b[1G\u001b[0K⠸\u001b[1G\u001b[0K⠼\u001b[1G\u001b[0K⠴\u001b[1G\u001b[0K⠦\u001b[1G\u001b[0K⠧\u001b[1G\u001b[0K⠇\u001b[1G\u001b[0K⠏\u001b[1G\u001b[0K⠋\u001b[1G\u001b[0K⠙\u001b[1G\u001b[0K⠹\u001b[1G\u001b[0K⠸\u001b[1G\u001b[0K⠼\u001b[1G\u001b[0K⠴\u001b[1G\u001b[0K⠦\u001b[1G\u001b[0K⠧\u001b[1G\u001b[0K⠇\u001b[1G\u001b[0K⠏\u001b[1G\u001b[0K⠋\u001b[1G\u001b[0K⠙\u001b[1G\u001b[0K⠹\u001b[1G\u001b[0K⠸\u001b[1G\u001b[0K⠼\u001b[1G\u001b[0K⠴\u001b[1G\u001b[0K⠦\u001b[1G\u001b[0K⠧\u001b[1G\u001b[0K⠇\u001b[1G\u001b[0K⠏\u001b[1G\u001b[0K⠋\u001b[1G\u001b[0K⠙\u001b[1G\u001b[0K⠹\u001b[1G\u001b[0K⠸\u001b[1G\u001b[0K⠼\u001b[1G\u001b[0K⠴\u001b[1G\u001b[0K⠦\u001b[1G\u001b[0K⠧\u001b[1G\u001b[0K⠇\u001b[1G\u001b[0K⠏\u001b[1G\u001b[0K⠋\u001b[1G\u001b[0K⠙\u001b[1G\u001b[0K⠹\u001b[1G\u001b[0K⠸\u001b[1G\u001b[0K⠼\u001b[1G\u001b[0K⠴\u001b[1G\u001b[0K⠦\u001b[1G\u001b[0K⠧\u001b[1G\u001b[0K⠇\u001b[1G\u001b[0K⠏\u001b[1G\u001b[0K⠋\u001b[1G\u001b[0K⠙\u001b[1G\u001b[0K⠹\u001b[1G\u001b[0K⠸\u001b[1G\u001b[0K⠼\u001b[1G\u001b[0K⠴\u001b[1G\u001b[0K⠦\u001b[1G\u001b[0K\n",
            "added 353 packages, and audited 354 packages in 28s\n",
            "\u001b[1G\u001b[0K⠦\u001b[1G\u001b[0K\n",
            "\u001b[1G\u001b[0K⠦\u001b[1G\u001b[0K127 packages are looking for funding\n",
            "\u001b[1G\u001b[0K⠦\u001b[1G\u001b[0K  run `npm fund` for details\n",
            "\u001b[1G\u001b[0K⠦\u001b[1G\u001b[0K\n",
            "found \u001b[32m\u001b[1m0\u001b[22m\u001b[39m vulnerabilities\n",
            "\u001b[1G\u001b[0K⠦\u001b[1G\u001b[0K"
          ]
        }
      ]
    },
    {
      "cell_type": "code",
      "source": [
        "!npm run dev"
      ],
      "metadata": {
        "colab": {
          "base_uri": "https://localhost:8080/"
        },
        "id": "Q5F2CN_WFHuC",
        "outputId": "420d730d-366e-40bb-fdf7-32c36eb89280"
      },
      "execution_count": 27,
      "outputs": [
        {
          "output_type": "stream",
          "name": "stdout",
          "text": [
            "\n",
            "> deepseek-r1-webgpu@0.0.0 dev\n",
            "> vite\n",
            "\n",
            "\u001b[1G\u001b[0K\n",
            "\u001b[1;1H\u001b[0J\n",
            "  \u001b[32m\u001b[1mVITE\u001b[22m v6.0.11\u001b[39m  \u001b[2mready in \u001b[0m\u001b[1m828\u001b[22m\u001b[2m\u001b[0m ms\u001b[22m\n",
            "\n",
            "  \u001b[32m➜\u001b[39m  \u001b[1mLocal\u001b[22m:   \u001b[36mhttp://localhost:\u001b[1m5173\u001b[22m/\u001b[39m\n",
            "\u001b[2m  \u001b[32m➜\u001b[39m  \u001b[1mNetwork\u001b[22m\u001b[2m: use \u001b[22m\u001b[1m--host\u001b[22m\u001b[2m to expose\u001b[22m\n",
            "\u001b[2m\u001b[32m  ➜\u001b[39m\u001b[22m\u001b[2m  press \u001b[22m\u001b[1mh + enter\u001b[22m\u001b[2m to show help\u001b[22m\n",
            "^C\n"
          ]
        }
      ]
    },
    {
      "cell_type": "code",
      "source": [
        "%cd /content/transformers.js-examples/deepseek-r1-webgpu\n",
        "from pyngrok import ngrok\n",
        "import threading\n",
        "import time\n",
        "\n",
        "ngrok_token = \"X\"\n",
        "ngrok.set_auth_token(ngrok_token)\n",
        "\n",
        "# Start ngrok in a separate thread to avoid blocking\n",
        "def start_ngrok():\n",
        "    public_url = ngrok.connect(5173).public_url\n",
        "    print(f\"🚀 Ngrok Tunnel Open: {public_url}\")\n",
        "\n",
        "ngrok_thread = threading.Thread(target=start_ngrok)\n",
        "ngrok_thread.start()\n",
        "\n",
        "# Wait for ngrok to start (optional)\n",
        "time.sleep(5)\n",
        "\n",
        "# Execute your node.js script\n",
        "!npm run dev"
      ],
      "metadata": {
        "colab": {
          "base_uri": "https://localhost:8080/"
        },
        "id": "2zhs1L_SFj4S",
        "outputId": "9d460003-3bb0-4943-b8ed-5c3220566301"
      },
      "execution_count": 30,
      "outputs": [
        {
          "output_type": "stream",
          "name": "stdout",
          "text": [
            "/content/transformers.js-examples/deepseek-r1-webgpu\n",
            "🚀 Ngrok Tunnel Open: https://f9c2-35-204-159-119.ngrok-free.app\n",
            "\n",
            "> deepseek-r1-webgpu@0.0.0 dev\n",
            "> vite\n",
            "\n",
            "\u001b[1G\u001b[0K\n",
            "\u001b[1;1H\u001b[0J\n",
            "  \u001b[32m\u001b[1mVITE\u001b[22m v6.0.11\u001b[39m  \u001b[2mready in \u001b[0m\u001b[1m811\u001b[22m\u001b[2m\u001b[0m ms\u001b[22m\n",
            "\n",
            "  \u001b[32m➜\u001b[39m  \u001b[1mLocal\u001b[22m:   \u001b[36mhttp://localhost:\u001b[1m5173\u001b[22m/\u001b[39m\n",
            "\u001b[2m  \u001b[32m➜\u001b[39m  \u001b[1mNetwork\u001b[22m\u001b[2m: use \u001b[22m\u001b[1m--host\u001b[22m\u001b[2m to expose\u001b[22m\n",
            "\u001b[2m\u001b[32m  ➜\u001b[39m\u001b[22m\u001b[2m  press \u001b[22m\u001b[1mh + enter\u001b[22m\u001b[2m to show help\u001b[22m\n",
            "^C\n"
          ]
        }
      ]
    },
    {
      "cell_type": "code",
      "source": [
        "Blocked request. This host (\"90b5-35-204-159-119.ngrok-free.app\") is not allowed.\n",
        "To allow this host, add \"90b5-35-204-159-119.ngrok-free.app\" to `server.allowedHosts` in vite.config.js.\n",
        "\n",
        "\n",
        "\n",
        "Blocked request. This host (\"f9c2-35-204-159-119.ngrok-free.app\") is not allowed.\n",
        "To allow this host, add \"f9c2-35-204-159-119.ngrok-free.app\" to `server.allowedHosts` in vite.config.js."
      ],
      "metadata": {
        "id": "gILuj4IjF3_z"
      },
      "execution_count": null,
      "outputs": []
    },
    {
      "cell_type": "code",
      "source": [
        "\n",
        "\n",
        "\n",
        "from pyngrok import ngrok\n",
        "import threading\n",
        "import time\n",
        "\n",
        "ngrok_token = \"X\"\n",
        "ngrok.set_auth_token(ngrok_token)\n",
        "\n",
        "# Start ngrok in a separate thread to avoid blocking\n",
        "def start_ngrok():\n",
        "    public_url = ngrok.connect(5173).public_url\n",
        "    print(f\"🚀 Ngrok Tunnel Open: {public_url}\")\n",
        "\n",
        "ngrok_thread = threading.Thread(target=start_ngrok)\n",
        "ngrok_thread.start()\n",
        "\n",
        "# Wait for ngrok to start (optional)\n",
        "time.sleep(5)\n",
        "\n",
        "# Execute your node.js script\n",
        "!npm run dev"
      ],
      "metadata": {
        "id": "gJoUee4dFUj6"
      },
      "execution_count": null,
      "outputs": []
    },
    {
      "cell_type": "code",
      "source": [
        "!pip install pyngrok"
      ],
      "metadata": {
        "colab": {
          "base_uri": "https://localhost:8080/"
        },
        "id": "9qausdKXFhjr",
        "outputId": "e6eb73f6-bc4d-4b79-e621-84e0553367da"
      },
      "execution_count": 28,
      "outputs": [
        {
          "output_type": "stream",
          "name": "stdout",
          "text": [
            "Collecting pyngrok\n",
            "  Downloading pyngrok-7.2.3-py3-none-any.whl.metadata (8.7 kB)\n",
            "Requirement already satisfied: PyYAML>=5.1 in /usr/local/lib/python3.11/dist-packages (from pyngrok) (6.0.2)\n",
            "Downloading pyngrok-7.2.3-py3-none-any.whl (23 kB)\n",
            "Installing collected packages: pyngrok\n",
            "Successfully installed pyngrok-7.2.3\n"
          ]
        }
      ]
    },
    {
      "cell_type": "code",
      "source": [
        "!wget -q https://github.com/cloudflare/cloudflared/releases/latest/download/cloudflared-linux-amd64 -O cloudflared\n",
        "!chmod +x cloudflared\n",
        "!./cloudflared tunnel --url http://localhost:5173 --no-autoupdate\n",
        "!ssh -R 80:localhost:5173 nokey@localhost.run\n",
        "!npm run dev\n"
      ],
      "metadata": {
        "colab": {
          "base_uri": "https://localhost:8080/"
        },
        "id": "JKrUarT4Fh1S",
        "outputId": "e8fa67ba-0e20-428f-b595-a3d70044f37c"
      },
      "execution_count": 1,
      "outputs": [
        {
          "output_type": "stream",
          "name": "stdout",
          "text": [
            "\u001b[90m2025-02-10T23:40:49Z\u001b[0m \u001b[32mINF\u001b[0m Thank you for trying Cloudflare Tunnel. Doing so, without a Cloudflare account, is a quick way to experiment and try it out. However, be aware that these account-less Tunnels have no uptime guarantee, are subject to the Cloudflare Online Services Terms of Use (https://www.cloudflare.com/website-terms/), and Cloudflare reserves the right to investigate your use of Tunnels for violations of such terms. If you intend to use Tunnels in production you should use a pre-created named tunnel by following: https://developers.cloudflare.com/cloudflare-one/connections/connect-apps\n",
            "\u001b[90m2025-02-10T23:40:49Z\u001b[0m \u001b[32mINF\u001b[0m Requesting new quick Tunnel on trycloudflare.com...\n",
            "\u001b[90m2025-02-10T23:40:53Z\u001b[0m \u001b[32mINF\u001b[0m +--------------------------------------------------------------------------------------------+\n",
            "\u001b[90m2025-02-10T23:40:53Z\u001b[0m \u001b[32mINF\u001b[0m |  Your quick Tunnel has been created! Visit it at (it may take some time to be reachable):  |\n",
            "\u001b[90m2025-02-10T23:40:53Z\u001b[0m \u001b[32mINF\u001b[0m |  https://breeds-kevin-receptors-charlotte.trycloudflare.com                                |\n",
            "\u001b[90m2025-02-10T23:40:53Z\u001b[0m \u001b[32mINF\u001b[0m +--------------------------------------------------------------------------------------------+\n",
            "\u001b[90m2025-02-10T23:40:53Z\u001b[0m \u001b[32mINF\u001b[0m Cannot determine default configuration path. No file [config.yml config.yaml] in [~/.cloudflared ~/.cloudflare-warp ~/cloudflare-warp /etc/cloudflared /usr/local/etc/cloudflared]\n",
            "\u001b[90m2025-02-10T23:40:53Z\u001b[0m \u001b[32mINF\u001b[0m Version 2025.2.0 (Checksum cbd18c5a6dee084db7a55d761b91202e47e63ddbd18d0faff04ca96e56739b3f)\n",
            "\u001b[90m2025-02-10T23:40:53Z\u001b[0m \u001b[32mINF\u001b[0m GOOS: linux, GOVersion: go1.22.10, GoArch: amd64\n",
            "\u001b[90m2025-02-10T23:40:53Z\u001b[0m \u001b[32mINF\u001b[0m Settings: map[ha-connections:1 no-autoupdate:true protocol:quic url:http://localhost:5173]\n",
            "\u001b[90m2025-02-10T23:40:53Z\u001b[0m \u001b[32mINF\u001b[0m cloudflared will not automatically update when run from the shell. To enable auto-updates, run cloudflared as a service: https://developers.cloudflare.com/cloudflare-one/connections/connect-apps/run-tunnel/as-a-service/\n",
            "\u001b[90m2025-02-10T23:40:53Z\u001b[0m \u001b[32mINF\u001b[0m Generated Connector ID: a09effc4-b4a2-4a28-b793-f829eb7ff31e\n",
            "\u001b[90m2025-02-10T23:40:53Z\u001b[0m \u001b[32mINF\u001b[0m Initial protocol quic\n",
            "\u001b[90m2025-02-10T23:40:53Z\u001b[0m \u001b[32mINF\u001b[0m ICMP proxy will use 172.28.0.12 as source for IPv4\n",
            "\u001b[90m2025-02-10T23:40:53Z\u001b[0m \u001b[32mINF\u001b[0m ICMP proxy will use :: as source for IPv6\n",
            "\u001b[90m2025-02-10T23:40:53Z\u001b[0m \u001b[32mINF\u001b[0m ICMP proxy will use 172.28.0.12 as source for IPv4\n",
            "\u001b[90m2025-02-10T23:40:53Z\u001b[0m \u001b[32mINF\u001b[0m ICMP proxy will use :: as source for IPv6\n",
            "\u001b[90m2025-02-10T23:40:53Z\u001b[0m \u001b[32mINF\u001b[0m Starting metrics server on 127.0.0.1:20241/metrics\n",
            "\u001b[90m2025-02-10T23:40:53Z\u001b[0m \u001b[32mINF\u001b[0m Using [CurveID(4588) CurveID(25497) CurveP256] as curve preferences \u001b[36mconnIndex=\u001b[0m0 \u001b[36mevent=\u001b[0m0 \u001b[36mip=\u001b[0m198.41.192.227\n",
            "2025/02/10 23:40:53 failed to sufficiently increase receive buffer size (was: 208 kiB, wanted: 7168 kiB, got: 416 kiB). See https://github.com/quic-go/quic-go/wiki/UDP-Buffer-Sizes for details.\n",
            "\u001b[90m2025-02-10T23:40:53Z\u001b[0m \u001b[32mINF\u001b[0m Registered tunnel connection \u001b[36mconnIndex=\u001b[0m0 \u001b[36mconnection=\u001b[0m90bf01c3-405a-47f8-b8ad-8eb5e3df05a9 \u001b[36mevent=\u001b[0m0 \u001b[36mip=\u001b[0m198.41.192.227 \u001b[36mlocation=\u001b[0mlax07 \u001b[36mprotocol=\u001b[0mquic\n",
            "\u001b[90m2025-02-10T23:41:03Z\u001b[0m \u001b[1m\u001b[31mERR\u001b[0m\u001b[0m  \u001b[31merror=\u001b[0m\u001b[31m\"Unable to reach the origin service. The service may be down or it may not be responding to traffic from cloudflared: dial tcp 127.0.0.1:5173: connect: connection refused\"\u001b[0m \u001b[36mconnIndex=\u001b[0m0 \u001b[36mevent=\u001b[0m1 \u001b[36mingressRule=\u001b[0m0 \u001b[36moriginService=\u001b[0mhttp://localhost:5173\n",
            "\u001b[90m2025-02-10T23:41:03Z\u001b[0m \u001b[1m\u001b[31mERR\u001b[0m\u001b[0m Request failed \u001b[31merror=\u001b[0m\u001b[31m\"Unable to reach the origin service. The service may be down or it may not be responding to traffic from cloudflared: dial tcp 127.0.0.1:5173: connect: connection refused\"\u001b[0m \u001b[36mconnIndex=\u001b[0m0 \u001b[36mdest=\u001b[0mhttps://breeds-kevin-receptors-charlotte.trycloudflare.com/ \u001b[36mevent=\u001b[0m0 \u001b[36mip=\u001b[0m198.41.192.227 \u001b[36mtype=\u001b[0mhttp\n",
            "\u001b[90m2025-02-10T23:41:04Z\u001b[0m \u001b[1m\u001b[31mERR\u001b[0m\u001b[0m  \u001b[31merror=\u001b[0m\u001b[31m\"Unable to reach the origin service. The service may be down or it may not be responding to traffic from cloudflared: dial tcp 127.0.0.1:5173: connect: connection refused\"\u001b[0m \u001b[36mconnIndex=\u001b[0m0 \u001b[36mevent=\u001b[0m1 \u001b[36mingressRule=\u001b[0m0 \u001b[36moriginService=\u001b[0mhttp://localhost:5173\n",
            "\u001b[90m2025-02-10T23:41:04Z\u001b[0m \u001b[1m\u001b[31mERR\u001b[0m\u001b[0m Request failed \u001b[31merror=\u001b[0m\u001b[31m\"Unable to reach the origin service. The service may be down or it may not be responding to traffic from cloudflared: dial tcp 127.0.0.1:5173: connect: connection refused\"\u001b[0m \u001b[36mconnIndex=\u001b[0m0 \u001b[36mdest=\u001b[0mhttps://breeds-kevin-receptors-charlotte.trycloudflare.com/favicon.ico \u001b[36mevent=\u001b[0m0 \u001b[36mip=\u001b[0m198.41.192.227 \u001b[36mtype=\u001b[0mhttp\n",
            "\u001b[90m2025-02-10T23:41:13Z\u001b[0m \u001b[32mINF\u001b[0m Initiating graceful shutdown due to signal interrupt ...\n",
            "\u001b[90m2025-02-10T23:41:13Z\u001b[0m \u001b[1m\u001b[31mERR\u001b[0m\u001b[0m Failed to serve tunnel connection \u001b[31merror=\u001b[0m\u001b[31m\"context canceled\"\u001b[0m \u001b[36mconnIndex=\u001b[0m0 \u001b[36mevent=\u001b[0m0 \u001b[36mip=\u001b[0m198.41.192.227\n",
            "\u001b[90m2025-02-10T23:41:13Z\u001b[0m \u001b[32mINF\u001b[0m Retrying connection in up to 1s \u001b[36mconnIndex=\u001b[0m0 \u001b[36mevent=\u001b[0m0 \u001b[36mip=\u001b[0m198.41.192.227\n",
            "\u001b[90m2025-02-10T23:41:13Z\u001b[0m \u001b[1m\u001b[31mERR\u001b[0m\u001b[0m no more connections active and exiting\n",
            "\u001b[90m2025-02-10T23:41:13Z\u001b[0m \u001b[32mINF\u001b[0m Tunnel server stopped\n",
            "\u001b[90m2025-02-10T23:41:13Z\u001b[0m \u001b[32mINF\u001b[0m Metrics server stopped\n",
            "Host key verification failed.\n",
            "\u001b[1mnpm\u001b[22m \u001b[31merror\u001b[39m \u001b[94mcode\u001b[39m ENOENT\n",
            "\u001b[1mnpm\u001b[22m \u001b[31merror\u001b[39m \u001b[94msyscall\u001b[39m open\n",
            "\u001b[1mnpm\u001b[22m \u001b[31merror\u001b[39m \u001b[94mpath\u001b[39m /content/package.json\n",
            "\u001b[1mnpm\u001b[22m \u001b[31merror\u001b[39m \u001b[94merrno\u001b[39m \u001b[33m-2\u001b[39m\n",
            "\u001b[1mnpm\u001b[22m \u001b[31merror\u001b[39m \u001b[94menoent\u001b[39m Could not read package.json: Error: ENOENT: no such file or directory, open '/content/package.json'\n",
            "\u001b[1mnpm\u001b[22m \u001b[31merror\u001b[39m \u001b[94menoent\u001b[39m This is related to npm not being able to find a file.\n",
            "\u001b[1mnpm\u001b[22m \u001b[31merror\u001b[39m \u001b[94menoent\u001b[39m\n",
            "\u001b[1mnpm\u001b[22m \u001b[31merror\u001b[39m A complete log of this run can be found in: /root/.npm/_logs/2025-02-10T23_41_14_091Z-debug-0.log\n",
            "\u001b[1G\u001b[0K"
          ]
        }
      ]
    },
    {
      "cell_type": "code",
      "source": [
        "https://random-name-12345.lhr.run\n",
        "\n",
        "\n",
        "https://surname-small-bacteria-joshua.trycloudflare.com\n"
      ],
      "metadata": {
        "id": "X5wTycIoOzEH"
      },
      "execution_count": null,
      "outputs": []
    },
    {
      "cell_type": "code",
      "source": [
        "!npx vite"
      ],
      "metadata": {
        "id": "0rrcwiOQPgmO"
      },
      "execution_count": null,
      "outputs": []
    },
    {
      "cell_type": "code",
      "source": [
        "!wget -q https://github.com/cloudflare/cloudflared/releases/latest/download/cloudflared-linux-amd64 -O cloudflared\n",
        "!chmod +x cloudflared\n",
        "!./cloudflared tunnel --url http://localhost:5173 --no-autoupdate\n",
        "!ssh -R 80:localhost:5173 nokey@localhost.run\n",
        "!npx vite\n"
      ],
      "metadata": {
        "colab": {
          "base_uri": "https://localhost:8080/"
        },
        "id": "rpSKM0xLPikJ",
        "outputId": "c762eb27-1c59-46ab-ecbb-6f2d67708319"
      },
      "execution_count": 2,
      "outputs": [
        {
          "output_type": "stream",
          "name": "stdout",
          "text": [
            "\u001b[90m2025-02-10T23:42:37Z\u001b[0m \u001b[32mINF\u001b[0m Thank you for trying Cloudflare Tunnel. Doing so, without a Cloudflare account, is a quick way to experiment and try it out. However, be aware that these account-less Tunnels have no uptime guarantee, are subject to the Cloudflare Online Services Terms of Use (https://www.cloudflare.com/website-terms/), and Cloudflare reserves the right to investigate your use of Tunnels for violations of such terms. If you intend to use Tunnels in production you should use a pre-created named tunnel by following: https://developers.cloudflare.com/cloudflare-one/connections/connect-apps\n",
            "\u001b[90m2025-02-10T23:42:37Z\u001b[0m \u001b[32mINF\u001b[0m Requesting new quick Tunnel on trycloudflare.com...\n",
            "\u001b[90m2025-02-10T23:42:41Z\u001b[0m \u001b[32mINF\u001b[0m +--------------------------------------------------------------------------------------------+\n",
            "\u001b[90m2025-02-10T23:42:41Z\u001b[0m \u001b[32mINF\u001b[0m |  Your quick Tunnel has been created! Visit it at (it may take some time to be reachable):  |\n",
            "\u001b[90m2025-02-10T23:42:41Z\u001b[0m \u001b[32mINF\u001b[0m |  https://error-practical-delay-bond.trycloudflare.com                                      |\n",
            "\u001b[90m2025-02-10T23:42:41Z\u001b[0m \u001b[32mINF\u001b[0m +--------------------------------------------------------------------------------------------+\n",
            "\u001b[90m2025-02-10T23:42:41Z\u001b[0m \u001b[32mINF\u001b[0m Cannot determine default configuration path. No file [config.yml config.yaml] in [~/.cloudflared ~/.cloudflare-warp ~/cloudflare-warp /etc/cloudflared /usr/local/etc/cloudflared]\n",
            "\u001b[90m2025-02-10T23:42:41Z\u001b[0m \u001b[32mINF\u001b[0m Version 2025.2.0 (Checksum cbd18c5a6dee084db7a55d761b91202e47e63ddbd18d0faff04ca96e56739b3f)\n",
            "\u001b[90m2025-02-10T23:42:41Z\u001b[0m \u001b[32mINF\u001b[0m GOOS: linux, GOVersion: go1.22.10, GoArch: amd64\n",
            "\u001b[90m2025-02-10T23:42:41Z\u001b[0m \u001b[32mINF\u001b[0m Settings: map[ha-connections:1 no-autoupdate:true protocol:quic url:http://localhost:5173]\n",
            "\u001b[90m2025-02-10T23:42:41Z\u001b[0m \u001b[32mINF\u001b[0m cloudflared will not automatically update when run from the shell. To enable auto-updates, run cloudflared as a service: https://developers.cloudflare.com/cloudflare-one/connections/connect-apps/run-tunnel/as-a-service/\n",
            "\u001b[90m2025-02-10T23:42:41Z\u001b[0m \u001b[32mINF\u001b[0m Generated Connector ID: 74a5521c-9fe2-4d16-a17c-a7fbc6a13a58\n",
            "\u001b[90m2025-02-10T23:42:41Z\u001b[0m \u001b[32mINF\u001b[0m Initial protocol quic\n",
            "\u001b[90m2025-02-10T23:42:41Z\u001b[0m \u001b[32mINF\u001b[0m ICMP proxy will use 172.28.0.12 as source for IPv4\n",
            "\u001b[90m2025-02-10T23:42:41Z\u001b[0m \u001b[32mINF\u001b[0m ICMP proxy will use :: as source for IPv6\n",
            "\u001b[90m2025-02-10T23:42:41Z\u001b[0m \u001b[32mINF\u001b[0m ICMP proxy will use 172.28.0.12 as source for IPv4\n",
            "\u001b[90m2025-02-10T23:42:41Z\u001b[0m \u001b[32mINF\u001b[0m ICMP proxy will use :: as source for IPv6\n",
            "\u001b[90m2025-02-10T23:42:41Z\u001b[0m \u001b[32mINF\u001b[0m Starting metrics server on 127.0.0.1:20241/metrics\n",
            "\u001b[90m2025-02-10T23:42:41Z\u001b[0m \u001b[32mINF\u001b[0m Using [CurveID(4588) CurveID(25497) CurveP256] as curve preferences \u001b[36mconnIndex=\u001b[0m0 \u001b[36mevent=\u001b[0m0 \u001b[36mip=\u001b[0m198.41.192.107\n",
            "2025/02/10 23:42:41 failed to sufficiently increase receive buffer size (was: 208 kiB, wanted: 7168 kiB, got: 416 kiB). See https://github.com/quic-go/quic-go/wiki/UDP-Buffer-Sizes for details.\n",
            "\u001b[90m2025-02-10T23:42:41Z\u001b[0m \u001b[32mINF\u001b[0m Registered tunnel connection \u001b[36mconnIndex=\u001b[0m0 \u001b[36mconnection=\u001b[0mcf44411d-f77e-4304-8d1e-d5c6b4a31cbf \u001b[36mevent=\u001b[0m0 \u001b[36mip=\u001b[0m198.41.192.107 \u001b[36mlocation=\u001b[0mlax05 \u001b[36mprotocol=\u001b[0mquic\n",
            "\u001b[90m2025-02-10T23:42:46Z\u001b[0m \u001b[1m\u001b[31mERR\u001b[0m\u001b[0m  \u001b[31merror=\u001b[0m\u001b[31m\"Unable to reach the origin service. The service may be down or it may not be responding to traffic from cloudflared: dial tcp 127.0.0.1:5173: connect: connection refused\"\u001b[0m \u001b[36mconnIndex=\u001b[0m0 \u001b[36mevent=\u001b[0m1 \u001b[36mingressRule=\u001b[0m0 \u001b[36moriginService=\u001b[0mhttp://localhost:5173\n",
            "\u001b[90m2025-02-10T23:42:46Z\u001b[0m \u001b[1m\u001b[31mERR\u001b[0m\u001b[0m Request failed \u001b[31merror=\u001b[0m\u001b[31m\"Unable to reach the origin service. The service may be down or it may not be responding to traffic from cloudflared: dial tcp 127.0.0.1:5173: connect: connection refused\"\u001b[0m \u001b[36mconnIndex=\u001b[0m0 \u001b[36mdest=\u001b[0mhttps://error-practical-delay-bond.trycloudflare.com/ \u001b[36mevent=\u001b[0m0 \u001b[36mip=\u001b[0m198.41.192.107 \u001b[36mtype=\u001b[0mhttp\n",
            "\u001b[90m2025-02-10T23:42:47Z\u001b[0m \u001b[1m\u001b[31mERR\u001b[0m\u001b[0m  \u001b[31merror=\u001b[0m\u001b[31m\"Unable to reach the origin service. The service may be down or it may not be responding to traffic from cloudflared: dial tcp 127.0.0.1:5173: connect: connection refused\"\u001b[0m \u001b[36mconnIndex=\u001b[0m0 \u001b[36mevent=\u001b[0m1 \u001b[36mingressRule=\u001b[0m0 \u001b[36moriginService=\u001b[0mhttp://localhost:5173\n",
            "\u001b[90m2025-02-10T23:42:47Z\u001b[0m \u001b[1m\u001b[31mERR\u001b[0m\u001b[0m Request failed \u001b[31merror=\u001b[0m\u001b[31m\"Unable to reach the origin service. The service may be down or it may not be responding to traffic from cloudflared: dial tcp 127.0.0.1:5173: connect: connection refused\"\u001b[0m \u001b[36mconnIndex=\u001b[0m0 \u001b[36mdest=\u001b[0mhttps://error-practical-delay-bond.trycloudflare.com/favicon.ico \u001b[36mevent=\u001b[0m0 \u001b[36mip=\u001b[0m198.41.192.107 \u001b[36mtype=\u001b[0mhttp\n",
            "\u001b[90m2025-02-10T23:42:53Z\u001b[0m \u001b[32mINF\u001b[0m Initiating graceful shutdown due to signal interrupt ...\n",
            "^C\n",
            "Host key verification failed.\n",
            "\u001b[1G\u001b[0K⠙\u001b[1G\u001b[0K⠹\u001b[1G\u001b[0K⠸\u001b[1G\u001b[0K⠼\u001b[1G\u001b[0K⠴\u001b[1G\u001b[0K⠦\u001b[1G\u001b[0K\u001b[1G\u001b[0JNeed to install the following packages:\n",
            "vite@6.1.0\n",
            "Ok to proceed? (y) \u001b[20Gغ\n",
            "\n",
            "\u001b[1G\u001b[0K⠙\u001b[1G\u001b[0K\u001b[1mnpm\u001b[22m \u001b[31merror\u001b[39m canceled\n",
            "\u001b[1G\u001b[0K⠙\u001b[1G\u001b[0K\u001b[1mnpm\u001b[22m \u001b[31merror\u001b[39m A complete log of this run can be found in: /root/.npm/_logs/2025-02-10T23_42_53_679Z-debug-0.log\n",
            "\u001b[1G\u001b[0K⠙\u001b[1G\u001b[0K"
          ]
        }
      ]
    },
    {
      "cell_type": "code",
      "source": [
        "!yarn vite\n"
      ],
      "metadata": {
        "id": "G2SO3RzTPk4O"
      },
      "execution_count": null,
      "outputs": []
    },
    {
      "cell_type": "code",
      "source": [
        "!wget -q https://github.com/cloudflare/cloudflared/releases/latest/download/cloudflared-linux-amd64 -O cloudflared\n",
        "!chmod +x cloudflared\n",
        "!./cloudflared tunnel --url http://localhost:5173 --no-autoupdate\n",
        "!ssh -R 80:localhost:5173 nokey@localhost.run\n",
        "!npm vite --host 0.0.0.0 --port 5173\n",
        "\n",
        "!npm run dev\n"
      ],
      "metadata": {
        "colab": {
          "base_uri": "https://localhost:8080/"
        },
        "id": "26PvbKJjPvfv",
        "outputId": "ff84d8ca-a3b5-4645-f273-f546c7aae3d4"
      },
      "execution_count": 1,
      "outputs": [
        {
          "output_type": "stream",
          "name": "stdout",
          "text": [
            "\u001b[90m2025-02-10T23:48:41Z\u001b[0m \u001b[32mINF\u001b[0m Thank you for trying Cloudflare Tunnel. Doing so, without a Cloudflare account, is a quick way to experiment and try it out. However, be aware that these account-less Tunnels have no uptime guarantee, are subject to the Cloudflare Online Services Terms of Use (https://www.cloudflare.com/website-terms/), and Cloudflare reserves the right to investigate your use of Tunnels for violations of such terms. If you intend to use Tunnels in production you should use a pre-created named tunnel by following: https://developers.cloudflare.com/cloudflare-one/connections/connect-apps\n",
            "\u001b[90m2025-02-10T23:48:41Z\u001b[0m \u001b[32mINF\u001b[0m Requesting new quick Tunnel on trycloudflare.com...\n",
            "\u001b[90m2025-02-10T23:48:44Z\u001b[0m \u001b[32mINF\u001b[0m +--------------------------------------------------------------------------------------------+\n",
            "\u001b[90m2025-02-10T23:48:44Z\u001b[0m \u001b[32mINF\u001b[0m |  Your quick Tunnel has been created! Visit it at (it may take some time to be reachable):  |\n",
            "\u001b[90m2025-02-10T23:48:44Z\u001b[0m \u001b[32mINF\u001b[0m |  https://western-colombia-groups-it.trycloudflare.com                                      |\n",
            "\u001b[90m2025-02-10T23:48:44Z\u001b[0m \u001b[32mINF\u001b[0m +--------------------------------------------------------------------------------------------+\n",
            "\u001b[90m2025-02-10T23:48:44Z\u001b[0m \u001b[32mINF\u001b[0m Cannot determine default configuration path. No file [config.yml config.yaml] in [~/.cloudflared ~/.cloudflare-warp ~/cloudflare-warp /etc/cloudflared /usr/local/etc/cloudflared]\n",
            "\u001b[90m2025-02-10T23:48:44Z\u001b[0m \u001b[32mINF\u001b[0m Version 2025.2.0 (Checksum cbd18c5a6dee084db7a55d761b91202e47e63ddbd18d0faff04ca96e56739b3f)\n",
            "\u001b[90m2025-02-10T23:48:44Z\u001b[0m \u001b[32mINF\u001b[0m GOOS: linux, GOVersion: go1.22.10, GoArch: amd64\n",
            "\u001b[90m2025-02-10T23:48:44Z\u001b[0m \u001b[32mINF\u001b[0m Settings: map[ha-connections:1 no-autoupdate:true protocol:quic url:http://localhost:5173]\n",
            "\u001b[90m2025-02-10T23:48:44Z\u001b[0m \u001b[32mINF\u001b[0m Generated Connector ID: 9e1689e7-51da-4a7a-9519-b0fef697bc12\n",
            "\u001b[90m2025-02-10T23:48:44Z\u001b[0m \u001b[32mINF\u001b[0m cloudflared will not automatically update when run from the shell. To enable auto-updates, run cloudflared as a service: https://developers.cloudflare.com/cloudflare-one/connections/connect-apps/run-tunnel/as-a-service/\n",
            "\u001b[90m2025-02-10T23:48:44Z\u001b[0m \u001b[32mINF\u001b[0m Initial protocol quic\n",
            "\u001b[90m2025-02-10T23:48:44Z\u001b[0m \u001b[32mINF\u001b[0m ICMP proxy will use 172.28.0.12 as source for IPv4\n",
            "\u001b[90m2025-02-10T23:48:44Z\u001b[0m \u001b[32mINF\u001b[0m ICMP proxy will use :: as source for IPv6\n",
            "\u001b[90m2025-02-10T23:48:44Z\u001b[0m \u001b[32mINF\u001b[0m ICMP proxy will use 172.28.0.12 as source for IPv4\n",
            "\u001b[90m2025-02-10T23:48:44Z\u001b[0m \u001b[32mINF\u001b[0m ICMP proxy will use :: as source for IPv6\n",
            "\u001b[90m2025-02-10T23:48:44Z\u001b[0m \u001b[32mINF\u001b[0m Starting metrics server on 127.0.0.1:20241/metrics\n",
            "\u001b[90m2025-02-10T23:48:44Z\u001b[0m \u001b[32mINF\u001b[0m Using [CurveID(4588) CurveID(25497) CurveP256] as curve preferences \u001b[36mconnIndex=\u001b[0m0 \u001b[36mevent=\u001b[0m0 \u001b[36mip=\u001b[0m198.41.192.37\n",
            "2025/02/10 23:48:44 failed to sufficiently increase receive buffer size (was: 208 kiB, wanted: 7168 kiB, got: 416 kiB). See https://github.com/quic-go/quic-go/wiki/UDP-Buffer-Sizes for details.\n",
            "\u001b[90m2025-02-10T23:48:44Z\u001b[0m \u001b[32mINF\u001b[0m Registered tunnel connection \u001b[36mconnIndex=\u001b[0m0 \u001b[36mconnection=\u001b[0m331d882e-d7df-4edf-a63f-dfdf37ef922f \u001b[36mevent=\u001b[0m0 \u001b[36mip=\u001b[0m198.41.192.37 \u001b[36mlocation=\u001b[0mlax05 \u001b[36mprotocol=\u001b[0mquic\n",
            "\u001b[90m2025-02-10T23:48:50Z\u001b[0m \u001b[32mINF\u001b[0m Initiating graceful shutdown due to signal interrupt ...\n",
            "\u001b[90m2025-02-10T23:48:50Z\u001b[0m \u001b[1m\u001b[31mERR\u001b[0m\u001b[0m Failed to serve tunnel connection \u001b[31merror=\u001b[0m\u001b[31m\"context canceled\"\u001b[0m \u001b[36mconnIndex=\u001b[0m0 \u001b[36mevent=\u001b[0m0 \u001b[36mip=\u001b[0m198.41.192.37\n",
            "\u001b[90m2025-02-10T23:48:50Z\u001b[0m \u001b[32mINF\u001b[0m Retrying connection in up to 1s \u001b[36mconnIndex=\u001b[0m0 \u001b[36mevent=\u001b[0m0 \u001b[36mip=\u001b[0m198.41.192.37\n",
            "\u001b[90m2025-02-10T23:48:50Z\u001b[0m \u001b[1m\u001b[31mERR\u001b[0m\u001b[0m no more connections active and exiting\n",
            "\u001b[90m2025-02-10T23:48:50Z\u001b[0m \u001b[32mINF\u001b[0m Tunnel server stopped\n",
            "\u001b[90m2025-02-10T23:48:50Z\u001b[0m \u001b[32mINF\u001b[0m Metrics server stopped\n",
            "Host key verification failed.\n",
            "Unknown command: \"vite\"\n",
            "\n",
            "To see a list of supported npm commands, run:\n",
            "  npm help\n",
            "\u001b[1G\u001b[0K\u001b[1mnpm\u001b[22m \u001b[31merror\u001b[39m \u001b[94mcode\u001b[39m ENOENT\n",
            "\u001b[1mnpm\u001b[22m \u001b[31merror\u001b[39m \u001b[94msyscall\u001b[39m open\n",
            "\u001b[1mnpm\u001b[22m \u001b[31merror\u001b[39m \u001b[94mpath\u001b[39m /content/package.json\n",
            "\u001b[1mnpm\u001b[22m \u001b[31merror\u001b[39m \u001b[94merrno\u001b[39m \u001b[33m-2\u001b[39m\n",
            "\u001b[1mnpm\u001b[22m \u001b[31merror\u001b[39m \u001b[94menoent\u001b[39m Could not read package.json: Error: ENOENT: no such file or directory, open '/content/package.json'\n",
            "\u001b[1mnpm\u001b[22m \u001b[31merror\u001b[39m \u001b[94menoent\u001b[39m This is related to npm not being able to find a file.\n",
            "\u001b[1mnpm\u001b[22m \u001b[31merror\u001b[39m \u001b[94menoent\u001b[39m\n",
            "\u001b[1mnpm\u001b[22m \u001b[31merror\u001b[39m A complete log of this run can be found in: /root/.npm/_logs/2025-02-10T23_48_50_978Z-debug-0.log\n",
            "\u001b[1G\u001b[0K"
          ]
        }
      ]
    },
    {
      "cell_type": "code",
      "source": [
        "!npm run dev -- --host 0.0.0.0 --port 5173\n"
      ],
      "metadata": {
        "colab": {
          "base_uri": "https://localhost:8080/"
        },
        "id": "urTOkNjVPxPu",
        "outputId": "8bf33000-14a5-45ff-812a-4c78047e9fc8"
      },
      "execution_count": 1,
      "outputs": [
        {
          "output_type": "stream",
          "name": "stdout",
          "text": [
            "\u001b[1mnpm\u001b[22m \u001b[31merror\u001b[39m \u001b[94mcode\u001b[39m ENOENT\n",
            "\u001b[1mnpm\u001b[22m \u001b[31merror\u001b[39m \u001b[94msyscall\u001b[39m open\n",
            "\u001b[1mnpm\u001b[22m \u001b[31merror\u001b[39m \u001b[94mpath\u001b[39m /content/package.json\n",
            "\u001b[1mnpm\u001b[22m \u001b[31merror\u001b[39m \u001b[94merrno\u001b[39m \u001b[33m-2\u001b[39m\n",
            "\u001b[1mnpm\u001b[22m \u001b[31merror\u001b[39m \u001b[94menoent\u001b[39m Could not read package.json: Error: ENOENT: no such file or directory, open '/content/package.json'\n",
            "\u001b[1mnpm\u001b[22m \u001b[31merror\u001b[39m \u001b[94menoent\u001b[39m This is related to npm not being able to find a file.\n",
            "\u001b[1mnpm\u001b[22m \u001b[31merror\u001b[39m \u001b[94menoent\u001b[39m\n",
            "\u001b[1mnpm\u001b[22m \u001b[31merror\u001b[39m A complete log of this run can be found in: /root/.npm/_logs/2025-02-10T23_49_10_624Z-debug-0.log\n",
            "\u001b[1G\u001b[0K"
          ]
        }
      ]
    },
    {
      "cell_type": "code",
      "source": [
        "!./cloudflared tunnel --url http://localhost:5173 --no-autoupdate\n"
      ],
      "metadata": {
        "colab": {
          "base_uri": "https://localhost:8080/"
        },
        "id": "k9Z196r3RFFv",
        "outputId": "2905768a-cc9e-4c1d-cdcb-35d7fa91a1cc"
      },
      "execution_count": 2,
      "outputs": [
        {
          "output_type": "stream",
          "name": "stdout",
          "text": [
            "\u001b[90m2025-02-10T23:49:26Z\u001b[0m \u001b[32mINF\u001b[0m Thank you for trying Cloudflare Tunnel. Doing so, without a Cloudflare account, is a quick way to experiment and try it out. However, be aware that these account-less Tunnels have no uptime guarantee, are subject to the Cloudflare Online Services Terms of Use (https://www.cloudflare.com/website-terms/), and Cloudflare reserves the right to investigate your use of Tunnels for violations of such terms. If you intend to use Tunnels in production you should use a pre-created named tunnel by following: https://developers.cloudflare.com/cloudflare-one/connections/connect-apps\n",
            "\u001b[90m2025-02-10T23:49:26Z\u001b[0m \u001b[32mINF\u001b[0m Requesting new quick Tunnel on trycloudflare.com...\n",
            "\u001b[90m2025-02-10T23:49:30Z\u001b[0m \u001b[32mINF\u001b[0m +--------------------------------------------------------------------------------------------+\n",
            "\u001b[90m2025-02-10T23:49:30Z\u001b[0m \u001b[32mINF\u001b[0m |  Your quick Tunnel has been created! Visit it at (it may take some time to be reachable):  |\n",
            "\u001b[90m2025-02-10T23:49:30Z\u001b[0m \u001b[32mINF\u001b[0m |  https://governments-avoiding-remedy-shakira.trycloudflare.com                             |\n",
            "\u001b[90m2025-02-10T23:49:30Z\u001b[0m \u001b[32mINF\u001b[0m +--------------------------------------------------------------------------------------------+\n",
            "\u001b[90m2025-02-10T23:49:30Z\u001b[0m \u001b[32mINF\u001b[0m Cannot determine default configuration path. No file [config.yml config.yaml] in [~/.cloudflared ~/.cloudflare-warp ~/cloudflare-warp /etc/cloudflared /usr/local/etc/cloudflared]\n",
            "\u001b[90m2025-02-10T23:49:30Z\u001b[0m \u001b[32mINF\u001b[0m Version 2025.2.0 (Checksum cbd18c5a6dee084db7a55d761b91202e47e63ddbd18d0faff04ca96e56739b3f)\n",
            "\u001b[90m2025-02-10T23:49:30Z\u001b[0m \u001b[32mINF\u001b[0m GOOS: linux, GOVersion: go1.22.10, GoArch: amd64\n",
            "\u001b[90m2025-02-10T23:49:30Z\u001b[0m \u001b[32mINF\u001b[0m Settings: map[ha-connections:1 no-autoupdate:true protocol:quic url:http://localhost:5173]\n",
            "\u001b[90m2025-02-10T23:49:30Z\u001b[0m \u001b[32mINF\u001b[0m Generated Connector ID: 967f8698-7122-47d4-8b2a-99ff98e0b926\n",
            "\u001b[90m2025-02-10T23:49:30Z\u001b[0m \u001b[32mINF\u001b[0m cloudflared will not automatically update when run from the shell. To enable auto-updates, run cloudflared as a service: https://developers.cloudflare.com/cloudflare-one/connections/connect-apps/run-tunnel/as-a-service/\n",
            "\u001b[90m2025-02-10T23:49:30Z\u001b[0m \u001b[32mINF\u001b[0m Initial protocol quic\n",
            "\u001b[90m2025-02-10T23:49:30Z\u001b[0m \u001b[32mINF\u001b[0m ICMP proxy will use 172.28.0.12 as source for IPv4\n",
            "\u001b[90m2025-02-10T23:49:30Z\u001b[0m \u001b[32mINF\u001b[0m ICMP proxy will use :: as source for IPv6\n",
            "\u001b[90m2025-02-10T23:49:30Z\u001b[0m \u001b[32mINF\u001b[0m ICMP proxy will use 172.28.0.12 as source for IPv4\n",
            "\u001b[90m2025-02-10T23:49:30Z\u001b[0m \u001b[32mINF\u001b[0m ICMP proxy will use :: as source for IPv6\n",
            "\u001b[90m2025-02-10T23:49:30Z\u001b[0m \u001b[32mINF\u001b[0m Starting metrics server on 127.0.0.1:20241/metrics\n",
            "\u001b[90m2025-02-10T23:49:30Z\u001b[0m \u001b[32mINF\u001b[0m Using [CurveID(4588) CurveID(25497) CurveP256] as curve preferences \u001b[36mconnIndex=\u001b[0m0 \u001b[36mevent=\u001b[0m0 \u001b[36mip=\u001b[0m198.41.200.23\n",
            "2025/02/10 23:49:30 failed to sufficiently increase receive buffer size (was: 208 kiB, wanted: 7168 kiB, got: 416 kiB). See https://github.com/quic-go/quic-go/wiki/UDP-Buffer-Sizes for details.\n",
            "\u001b[90m2025-02-10T23:49:30Z\u001b[0m \u001b[32mINF\u001b[0m Registered tunnel connection \u001b[36mconnIndex=\u001b[0m0 \u001b[36mconnection=\u001b[0mcec3068f-b5cf-4ea8-a9b8-5178d9d8868c \u001b[36mevent=\u001b[0m0 \u001b[36mip=\u001b[0m198.41.200.23 \u001b[36mlocation=\u001b[0mlax01 \u001b[36mprotocol=\u001b[0mquic\n",
            "\u001b[90m2025-02-10T23:49:37Z\u001b[0m \u001b[32mINF\u001b[0m Initiating graceful shutdown due to signal interrupt ...\n",
            "^C\n"
          ]
        }
      ]
    },
    {
      "cell_type": "code",
      "source": [
        "!pip install pyngrok"
      ],
      "metadata": {
        "colab": {
          "base_uri": "https://localhost:8080/"
        },
        "id": "Ue9KconWRbDR",
        "outputId": "d37f242c-f761-4346-99a3-ec2a8deb4203"
      },
      "execution_count": 6,
      "outputs": [
        {
          "output_type": "stream",
          "name": "stdout",
          "text": [
            "Collecting pyngrok\n",
            "  Downloading pyngrok-7.2.3-py3-none-any.whl.metadata (8.7 kB)\n",
            "Requirement already satisfied: PyYAML>=5.1 in /usr/local/lib/python3.11/dist-packages (from pyngrok) (6.0.2)\n",
            "Downloading pyngrok-7.2.3-py3-none-any.whl (23 kB)\n",
            "Installing collected packages: pyngrok\n",
            "Successfully installed pyngrok-7.2.3\n"
          ]
        }
      ]
    },
    {
      "cell_type": "code",
      "source": [
        "from pyngrok import ngrok\n",
        "\n",
        "ngrok.set_auth_token(\"\")\n",
        "public_url = ngrok.connect(5173).public_url\n",
        "print(f\"🚀 Ngrok Tunnel Open: {public_url}\")\n",
        "!npm run dev"
      ],
      "metadata": {
        "colab": {
          "base_uri": "https://localhost:8080/"
        },
        "id": "ekC-AzGtRJBm",
        "outputId": "f5931716-5f92-40df-e2d7-ba488b7fd861"
      },
      "execution_count": 1,
      "outputs": [
        {
          "output_type": "stream",
          "name": "stdout",
          "text": [
            "🚀 Ngrok Tunnel Open: https://c21c-34-125-47-249.ngrok-free.app\n",
            "\u001b[1mnpm\u001b[22m \u001b[31merror\u001b[39m \u001b[94mcode\u001b[39m ENOENT\n",
            "\u001b[1mnpm\u001b[22m \u001b[31merror\u001b[39m \u001b[94msyscall\u001b[39m open\n",
            "\u001b[1mnpm\u001b[22m \u001b[31merror\u001b[39m \u001b[94mpath\u001b[39m /content/package.json\n",
            "\u001b[1mnpm\u001b[22m \u001b[31merror\u001b[39m \u001b[94merrno\u001b[39m \u001b[33m-2\u001b[39m\n",
            "\u001b[1mnpm\u001b[22m \u001b[31merror\u001b[39m \u001b[94menoent\u001b[39m Could not read package.json: Error: ENOENT: no such file or directory, open '/content/package.json'\n",
            "\u001b[1mnpm\u001b[22m \u001b[31merror\u001b[39m \u001b[94menoent\u001b[39m This is related to npm not being able to find a file.\n",
            "\u001b[1mnpm\u001b[22m \u001b[31merror\u001b[39m \u001b[94menoent\u001b[39m\n",
            "\u001b[1mnpm\u001b[22m \u001b[31merror\u001b[39m A complete log of this run can be found in: /root/.npm/_logs/2025-02-10T23_52_18_813Z-debug-0.log\n",
            "\u001b[1G\u001b[0K"
          ]
        }
      ]
    },
    {
      "cell_type": "code",
      "source": [
        "!npm run dev -- --host 0.0.0.0 --port 5173\n"
      ],
      "metadata": {
        "colab": {
          "base_uri": "https://localhost:8080/"
        },
        "id": "lAde5871RT7_",
        "outputId": "150efa33-4c1f-4a05-b732-fbc1c7c9eced"
      },
      "execution_count": 2,
      "outputs": [
        {
          "output_type": "stream",
          "name": "stdout",
          "text": [
            "\u001b[1mnpm\u001b[22m \u001b[31merror\u001b[39m \u001b[94mcode\u001b[39m ENOENT\n",
            "\u001b[1mnpm\u001b[22m \u001b[31merror\u001b[39m \u001b[94msyscall\u001b[39m open\n",
            "\u001b[1mnpm\u001b[22m \u001b[31merror\u001b[39m \u001b[94mpath\u001b[39m /content/package.json\n",
            "\u001b[1mnpm\u001b[22m \u001b[31merror\u001b[39m \u001b[94merrno\u001b[39m \u001b[33m-2\u001b[39m\n",
            "\u001b[1mnpm\u001b[22m \u001b[31merror\u001b[39m \u001b[94menoent\u001b[39m Could not read package.json: Error: ENOENT: no such file or directory, open '/content/package.json'\n",
            "\u001b[1mnpm\u001b[22m \u001b[31merror\u001b[39m \u001b[94menoent\u001b[39m This is related to npm not being able to find a file.\n",
            "\u001b[1mnpm\u001b[22m \u001b[31merror\u001b[39m \u001b[94menoent\u001b[39m\n",
            "\u001b[1mnpm\u001b[22m \u001b[31merror\u001b[39m A complete log of this run can be found in: /root/.npm/_logs/2025-02-10T23_52_38_596Z-debug-0.log\n",
            "\u001b[1G\u001b[0K"
          ]
        }
      ]
    },
    {
      "cell_type": "code",
      "source": [
        "from pyngrok import ngrok\n",
        "\n",
        "ngrok.set_auth_token(\"YOUR_NGROK_AUTH_TOKEN\")\n",
        "public_url = ngrok.connect(5173).public_url\n",
        "print(f\"🚀 Ngrok Tunnel Open: {public_url}\")\n",
        "!npm run dev"
      ],
      "metadata": {
        "colab": {
          "base_uri": "https://localhost:8080/",
          "height": 446
        },
        "id": "Rehde9BnR33H",
        "outputId": "052e9a00-e720-46b9-a6f2-d8e8ee0e4ccf"
      },
      "execution_count": 1,
      "outputs": [
        {
          "output_type": "stream",
          "name": "stderr",
          "text": [
            "ERROR:pyngrok.process.ngrok:t=2025-02-10T23:55:00+0000 lvl=eror msg=\"failed to reconnect session\" obj=tunnels.session err=\"authentication failed: The authtoken you specified does not look like a proper ngrok tunnel authtoken.\\nYour authtoken: YOUR_NGROK_AUTH_TOKEN\\nInstructions to install your authtoken are on your ngrok dashboard:\\nhttps://dashboard.ngrok.com/get-started/your-authtoken\\r\\n\\r\\nERR_NGROK_105\\r\\n\"\n",
            "ERROR:pyngrok.process.ngrok:t=2025-02-10T23:55:00+0000 lvl=eror msg=\"session closing\" obj=tunnels.session err=\"authentication failed: The authtoken you specified does not look like a proper ngrok tunnel authtoken.\\nYour authtoken: YOUR_NGROK_AUTH_TOKEN\\nInstructions to install your authtoken are on your ngrok dashboard:\\nhttps://dashboard.ngrok.com/get-started/your-authtoken\\r\\n\\r\\nERR_NGROK_105\\r\\n\"\n"
          ]
        },
        {
          "output_type": "error",
          "ename": "PyngrokNgrokError",
          "evalue": "The ngrok process errored on start: authentication failed: The authtoken you specified does not look like a proper ngrok tunnel authtoken.\\nYour authtoken: YOUR_NGROK_AUTH_TOKEN\\nInstructions to install your authtoken are on your ngrok dashboard:\\nhttps://dashboard.ngrok.com/get-started/your-authtoken\\r\\n\\r\\nERR_NGROK_105\\r\\n.",
          "traceback": [
            "\u001b[0;31m---------------------------------------------------------------------------\u001b[0m",
            "\u001b[0;31mPyngrokNgrokError\u001b[0m                         Traceback (most recent call last)",
            "\u001b[0;32m<ipython-input-1-3cf52b5ba338>\u001b[0m in \u001b[0;36m<cell line: 0>\u001b[0;34m()\u001b[0m\n\u001b[1;32m      2\u001b[0m \u001b[0;34m\u001b[0m\u001b[0m\n\u001b[1;32m      3\u001b[0m \u001b[0mngrok\u001b[0m\u001b[0;34m.\u001b[0m\u001b[0mset_auth_token\u001b[0m\u001b[0;34m(\u001b[0m\u001b[0;34m\"YOUR_NGROK_AUTH_TOKEN\"\u001b[0m\u001b[0;34m)\u001b[0m\u001b[0;34m\u001b[0m\u001b[0;34m\u001b[0m\u001b[0m\n\u001b[0;32m----> 4\u001b[0;31m \u001b[0mpublic_url\u001b[0m \u001b[0;34m=\u001b[0m \u001b[0mngrok\u001b[0m\u001b[0;34m.\u001b[0m\u001b[0mconnect\u001b[0m\u001b[0;34m(\u001b[0m\u001b[0;36m5173\u001b[0m\u001b[0;34m)\u001b[0m\u001b[0;34m.\u001b[0m\u001b[0mpublic_url\u001b[0m\u001b[0;34m\u001b[0m\u001b[0;34m\u001b[0m\u001b[0m\n\u001b[0m\u001b[1;32m      5\u001b[0m \u001b[0mprint\u001b[0m\u001b[0;34m(\u001b[0m\u001b[0;34mf\"🚀 Ngrok Tunnel Open: {public_url}\"\u001b[0m\u001b[0;34m)\u001b[0m\u001b[0;34m\u001b[0m\u001b[0;34m\u001b[0m\u001b[0m\n\u001b[1;32m      6\u001b[0m \u001b[0mget_ipython\u001b[0m\u001b[0;34m(\u001b[0m\u001b[0;34m)\u001b[0m\u001b[0;34m.\u001b[0m\u001b[0msystem\u001b[0m\u001b[0;34m(\u001b[0m\u001b[0;34m'npm run dev'\u001b[0m\u001b[0;34m)\u001b[0m\u001b[0;34m\u001b[0m\u001b[0;34m\u001b[0m\u001b[0m\n",
            "\u001b[0;32m/usr/local/lib/python3.11/dist-packages/pyngrok/ngrok.py\u001b[0m in \u001b[0;36mconnect\u001b[0;34m(addr, proto, name, pyngrok_config, **options)\u001b[0m\n\u001b[1;32m    349\u001b[0m     \u001b[0mlogger\u001b[0m\u001b[0;34m.\u001b[0m\u001b[0minfo\u001b[0m\u001b[0;34m(\u001b[0m\u001b[0;34mf\"Opening tunnel named: {name}\"\u001b[0m\u001b[0;34m)\u001b[0m\u001b[0;34m\u001b[0m\u001b[0;34m\u001b[0m\u001b[0m\n\u001b[1;32m    350\u001b[0m \u001b[0;34m\u001b[0m\u001b[0m\n\u001b[0;32m--> 351\u001b[0;31m     \u001b[0mapi_url\u001b[0m \u001b[0;34m=\u001b[0m \u001b[0mget_ngrok_process\u001b[0m\u001b[0;34m(\u001b[0m\u001b[0mpyngrok_config\u001b[0m\u001b[0;34m)\u001b[0m\u001b[0;34m.\u001b[0m\u001b[0mapi_url\u001b[0m\u001b[0;34m\u001b[0m\u001b[0;34m\u001b[0m\u001b[0m\n\u001b[0m\u001b[1;32m    352\u001b[0m \u001b[0;34m\u001b[0m\u001b[0m\n\u001b[1;32m    353\u001b[0m     \u001b[0mlogger\u001b[0m\u001b[0;34m.\u001b[0m\u001b[0mdebug\u001b[0m\u001b[0;34m(\u001b[0m\u001b[0;34mf\"Creating tunnel with options: {options}\"\u001b[0m\u001b[0;34m)\u001b[0m\u001b[0;34m\u001b[0m\u001b[0;34m\u001b[0m\u001b[0m\n",
            "\u001b[0;32m/usr/local/lib/python3.11/dist-packages/pyngrok/ngrok.py\u001b[0m in \u001b[0;36mget_ngrok_process\u001b[0;34m(pyngrok_config)\u001b[0m\n\u001b[1;32m    174\u001b[0m     \u001b[0minstall_ngrok\u001b[0m\u001b[0;34m(\u001b[0m\u001b[0mpyngrok_config\u001b[0m\u001b[0;34m)\u001b[0m\u001b[0;34m\u001b[0m\u001b[0;34m\u001b[0m\u001b[0m\n\u001b[1;32m    175\u001b[0m \u001b[0;34m\u001b[0m\u001b[0m\n\u001b[0;32m--> 176\u001b[0;31m     \u001b[0;32mreturn\u001b[0m \u001b[0mprocess\u001b[0m\u001b[0;34m.\u001b[0m\u001b[0mget_process\u001b[0m\u001b[0;34m(\u001b[0m\u001b[0mpyngrok_config\u001b[0m\u001b[0;34m)\u001b[0m\u001b[0;34m\u001b[0m\u001b[0;34m\u001b[0m\u001b[0m\n\u001b[0m\u001b[1;32m    177\u001b[0m \u001b[0;34m\u001b[0m\u001b[0m\n\u001b[1;32m    178\u001b[0m \u001b[0;34m\u001b[0m\u001b[0m\n",
            "\u001b[0;32m/usr/local/lib/python3.11/dist-packages/pyngrok/process.py\u001b[0m in \u001b[0;36mget_process\u001b[0;34m(pyngrok_config)\u001b[0m\n\u001b[1;32m    263\u001b[0m         \u001b[0;32mreturn\u001b[0m \u001b[0m_current_processes\u001b[0m\u001b[0;34m[\u001b[0m\u001b[0mpyngrok_config\u001b[0m\u001b[0;34m.\u001b[0m\u001b[0mngrok_path\u001b[0m\u001b[0;34m]\u001b[0m\u001b[0;34m\u001b[0m\u001b[0;34m\u001b[0m\u001b[0m\n\u001b[1;32m    264\u001b[0m \u001b[0;34m\u001b[0m\u001b[0m\n\u001b[0;32m--> 265\u001b[0;31m     \u001b[0;32mreturn\u001b[0m \u001b[0m_start_process\u001b[0m\u001b[0;34m(\u001b[0m\u001b[0mpyngrok_config\u001b[0m\u001b[0;34m)\u001b[0m\u001b[0;34m\u001b[0m\u001b[0;34m\u001b[0m\u001b[0m\n\u001b[0m\u001b[1;32m    266\u001b[0m \u001b[0;34m\u001b[0m\u001b[0m\n\u001b[1;32m    267\u001b[0m \u001b[0;34m\u001b[0m\u001b[0m\n",
            "\u001b[0;32m/usr/local/lib/python3.11/dist-packages/pyngrok/process.py\u001b[0m in \u001b[0;36m_start_process\u001b[0;34m(pyngrok_config)\u001b[0m\n\u001b[1;32m    426\u001b[0m \u001b[0;34m\u001b[0m\u001b[0m\n\u001b[1;32m    427\u001b[0m         \u001b[0;32mif\u001b[0m \u001b[0mngrok_process\u001b[0m\u001b[0;34m.\u001b[0m\u001b[0mstartup_error\u001b[0m \u001b[0;32mis\u001b[0m \u001b[0;32mnot\u001b[0m \u001b[0;32mNone\u001b[0m\u001b[0;34m:\u001b[0m\u001b[0;34m\u001b[0m\u001b[0;34m\u001b[0m\u001b[0m\n\u001b[0;32m--> 428\u001b[0;31m             raise PyngrokNgrokError(f\"The ngrok process errored on start: {ngrok_process.startup_error}.\",\n\u001b[0m\u001b[1;32m    429\u001b[0m                                     \u001b[0mngrok_process\u001b[0m\u001b[0;34m.\u001b[0m\u001b[0mlogs\u001b[0m\u001b[0;34m,\u001b[0m\u001b[0;34m\u001b[0m\u001b[0;34m\u001b[0m\u001b[0m\n\u001b[1;32m    430\u001b[0m                                     ngrok_process.startup_error)\n",
            "\u001b[0;31mPyngrokNgrokError\u001b[0m: The ngrok process errored on start: authentication failed: The authtoken you specified does not look like a proper ngrok tunnel authtoken.\\nYour authtoken: YOUR_NGROK_AUTH_TOKEN\\nInstructions to install your authtoken are on your ngrok dashboard:\\nhttps://dashboard.ngrok.com/get-started/your-authtoken\\r\\n\\r\\nERR_NGROK_105\\r\\n."
          ]
        }
      ]
    },
    {
      "cell_type": "code",
      "source": [
        "!npm vite --host 0.0.0.0 --port 5173\n"
      ],
      "metadata": {
        "colab": {
          "base_uri": "https://localhost:8080/"
        },
        "id": "SvNY7lKnSKp4",
        "outputId": "75c9639f-46a4-466a-8210-aeda21d4ae40"
      },
      "execution_count": 7,
      "outputs": [
        {
          "output_type": "stream",
          "name": "stdout",
          "text": [
            "Unknown command: \"vite\"\n",
            "\n",
            "To see a list of supported npm commands, run:\n",
            "  npm help\n",
            "\u001b[1G\u001b[0K"
          ]
        }
      ]
    },
    {
      "cell_type": "code",
      "source": [
        "!yarn vite\n"
      ],
      "metadata": {
        "colab": {
          "base_uri": "https://localhost:8080/"
        },
        "id": "ZvaFy5ChSLxK",
        "outputId": "92489102-1944-423c-9c45-5dfa9c82fa40"
      },
      "execution_count": 2,
      "outputs": [
        {
          "output_type": "stream",
          "name": "stdout",
          "text": [
            "/bin/bash: line 1: yarn: command not found\n"
          ]
        }
      ]
    },
    {
      "cell_type": "code",
      "source": [
        "!curl -I http://localhost:5173\n"
      ],
      "metadata": {
        "colab": {
          "base_uri": "https://localhost:8080/"
        },
        "id": "TG0Lq7jBSgLf",
        "outputId": "0ffd8769-8c76-45ed-d42f-3c248576f607"
      },
      "execution_count": 3,
      "outputs": [
        {
          "output_type": "stream",
          "name": "stdout",
          "text": [
            "curl: (7) Failed to connect to localhost port 5173 after 0 ms: Connection refused\n"
          ]
        }
      ]
    },
    {
      "cell_type": "code",
      "source": [],
      "metadata": {
        "id": "rBIzRdcESlHo"
      },
      "execution_count": null,
      "outputs": []
    }
  ]
}